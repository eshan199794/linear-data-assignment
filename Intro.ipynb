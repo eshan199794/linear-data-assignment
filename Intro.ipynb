{
  "metadata": {
    "kernelspec": {
      "name": "python",
      "display_name": "Python (Pyodide)",
      "language": "python"
    },
    "language_info": {
      "codemirror_mode": {
        "name": "python",
        "version": 3
      },
      "file_extension": ".py",
      "mimetype": "text/x-python",
      "name": "python",
      "nbconvert_exporter": "python",
      "pygments_lexer": "ipython3",
      "version": "3.8"
    }
  },
  "nbformat_minor": 5,
  "nbformat": 4,
  "cells": [
    {
      "cell_type": "code",
      "source": "# Naive method to find a pair in a list with the given sum\ndef findPair(nums, target):\n \n    # consider each element except the last\n    for i in range(len(nums) - 1):\n \n        # start from the i'th element until the last element\n        for j in range(i + 1, len(nums)):\n \n            # if the desired sum is found, print it\n            if nums[i] + nums[j] == target:\n                print('Pair found', (nums[i], nums[j]))\n                return\n \n    # No pair with the given sum exists in the list\n    print('Pair not found')\n \n \nif __name__ == '__main__':\n \n    nums = [8, 7, 2, 5, 3, 1]\n    target = 10\n \n    findPair(nums, target)\n ",
      "metadata": {
        "trusted": true
      },
      "execution_count": 1,
      "outputs": [
        {
          "name": "stdout",
          "text": "Pair found (8, 2)\n",
          "output_type": "stream"
        }
      ],
      "id": "87724faf-ce5a-49d3-b091-9df12f2c4192"
    },
    {
      "cell_type": "code",
      "source": "# Iterative python program to reverse an array\n \n# Function to reverse A[] from start to end\ndef reverseList(A, start, end):\n    while start < end:\n        A[start], A[end] = A[end], A[start]\n        start += 1\n        end -= 1\n \n# Driver function to test above function\nA = [1, 2, 3, 4, 5, 6]\nprint(A)\nreverseList(A, 0, 5)\nprint(\"Reversed list is\")\nprint(A)\n",
      "metadata": {
        "trusted": true
      },
      "execution_count": 2,
      "outputs": [
        {
          "name": "stdout",
          "text": "[1, 2, 3, 4, 5, 6]\nReversed list is\n[6, 5, 4, 3, 2, 1]\n",
          "output_type": "stream"
        }
      ],
      "id": "f23c1880-0a19-40b1-a6fd-893bae8d51f2"
    },
    {
      "cell_type": "code",
      "source": "# Python program to check if strings are rotations of\n# each other or not\n \n# Function checks if passed strings (str1 and str2)\n# are rotations of each other\ndef areRotations(string1, string2):\n    size1 = len(string1)\n    size2 = len(string2)\n    temp = ''\n \n    # Check if sizes of two strings are same\n    if size1 != size2:\n        return 0\n \n    # Create a temp string with value str1.str1\n    temp = string1 + string1\n \n    # Now check if str2 is a substring of temp\n    # string.count returns the number of occurrences of\n    # the second string in temp\n    if (temp.count(string2)> 0):\n        return 1\n    else:\n        return 0\n \n# Driver program to test the above function\nstring1 = \"AACD\"\nstring2 = \"ACDA\"\n \nif areRotations(string1, string2):\n    print (\"Strings are rotations of each other\")\nelse:\n    print (\"Strings are not rotations of each other\")\n ",
      "metadata": {
        "trusted": true
      },
      "execution_count": 4,
      "outputs": [
        {
          "name": "stdout",
          "text": "Strings are rotations of each other\n",
          "output_type": "stream"
        }
      ],
      "id": "4bc4f8f8-28a0-4957-9247-4844368f0718"
    },
    {
      "cell_type": "code",
      "source": "# Python program to print the first non-repeating character\nNO_OF_CHARS = 256\n \n# Returns an array of size 256 containing count\n# of characters in the passed char array\ndef getCharCountArray(string):\n    count = [0] * NO_OF_CHARS\n    for i in string:\n        count[ord(i)]+= 1\n    return count\n \n# The function returns index of first non-repeating\n# character in a string. If all characters are repeating\n# then returns -1\ndef firstNonRepeating(string):\n    count = getCharCountArray(string)\n    index = -1\n    k = 0\n \n    for i in string:\n        if count[ord(i)] == 1:\n            index = k\n            break\n        k += 1\n \n    return index\n \n# Driver program to test above function\nstring = \"geeksforgeeks\"\nindex = firstNonRepeating(string)\nif index == 1:\n    print (\"Either all characters are repeating or string is empty\")\nelse:\n    print (\"First non-repeating character is\" , string[index])\n ",
      "metadata": {
        "trusted": true
      },
      "execution_count": 5,
      "outputs": [
        {
          "name": "stdout",
          "text": "First non-repeating character is f\n",
          "output_type": "stream"
        }
      ],
      "id": "350f1273-01a0-4cac-8290-2fbe20edc163"
    },
    {
      "cell_type": "code",
      "source": "# Recursive Python function to solve tower of hanoi\n \n \ndef TowerOfHanoi(n, from_rod, to_rod, aux_rod):\n    if n == 0:\n        return\n    TowerOfHanoi(n-1, from_rod, aux_rod, to_rod)\n    print(\"Move disk\", n, \"from rod\", from_rod, \"to rod\", to_rod)\n    TowerOfHanoi(n-1, aux_rod, to_rod, from_rod)\n \n \n# Driver code\nN = 3\n \n# A, C, B are the name of rods\nTowerOfHanoi(N, 'A', 'C', 'B')",
      "metadata": {
        "trusted": true
      },
      "execution_count": 7,
      "outputs": [
        {
          "name": "stdout",
          "text": "Move disk 1 from rod A to rod C\nMove disk 2 from rod A to rod B\nMove disk 1 from rod C to rod B\nMove disk 3 from rod A to rod C\nMove disk 1 from rod B to rod A\nMove disk 2 from rod B to rod C\nMove disk 1 from rod A to rod C\n",
          "output_type": "stream"
        }
      ],
      "id": "dadbe71e-da22-4839-ad54-8bdc0dd9dc65"
    },
    {
      "cell_type": "code",
      "source": "# Program to convert postfix to prefix\n \n# function to check if\n# character is operator or not\n \n \ndef isOperator(x):\n \n    if x == \"+\":\n        return True\n \n    if x == \"-\":\n        return True\n \n    if x == \"/\":\n        return True\n \n    if x == \"*\":\n        return True\n \n    return False\n \n# Convert postfix to Prefix expression\n \n \ndef postToPre(post_exp):\n \n    s = []\n \n    # length of expression\n    length = len(post_exp)\n \n    # reading from right to left\n    for i in range(length):\n \n        # check if symbol is operator\n        if (isOperator(post_exp[i])):\n \n            # pop two operands from stack\n            op1 = s[-1]\n            s.pop()\n            op2 = s[-1]\n            s.pop()\n \n            # concat the operands and operator\n            temp = post_exp[i] + op2 + op1\n \n            # Push string temp back to stack\n            s.append(temp)\n \n        # if symbol is an operand\n        else:\n \n            # push the operand to the stack\n            s.append(post_exp[i])\n \n    \n    ans = \"\"\n    for i in s:\n        ans += i\n    return ans\n \n \n# Driver Code\nif __name__ == \"__main__\":\n \n    post_exp = \"AB+CD-\"\n     \n    # Function call\n    print(\"Prefix : \", postToPre(post_exp))",
      "metadata": {
        "trusted": true
      },
      "execution_count": 10,
      "outputs": [
        {
          "name": "stdout",
          "text": "Prefix :  +AB-CD\n",
          "output_type": "stream"
        }
      ],
      "id": "096e4663-6a18-4cb3-b26a-51b2762599dc"
    },
    {
      "cell_type": "code",
      "source": "# Python Program to convert prefix to Infix\ndef prefixToInfix(prefix):\n    stack = []\n     \n    # read prefix in reverse order\n    i = len(prefix) - 1\n    while i >= 0:\n        if not isOperator(prefix[i]):\n             \n            # symbol is operand\n            stack.append(prefix[i])\n            i -= 1\n        else:\n           \n            # symbol is operator\n            str = \"(\" + stack.pop() + prefix[i] + stack.pop() + \")\"\n            stack.append(str)\n            i -= 1\n     \n    return stack.pop()\n \ndef isOperator(c):\n    if c == \"*\" or c == \"+\" or c == \"-\" or c == \"/\" or c == \"^\" or c == \"(\" or c == \")\":\n        return True\n    else:\n        return False\n \n# Driver code\nif __name__==\"__main__\":\n    str = \"*-A/BC-/AKL\"\n    print(prefixToInfix(str))",
      "metadata": {
        "trusted": true
      },
      "execution_count": 11,
      "outputs": [
        {
          "name": "stdout",
          "text": "((A-(B/C))*((A/K)-L))\n",
          "output_type": "stream"
        }
      ],
      "id": "cc92a095-f303-4cdd-a5ea-b3160b50c290"
    },
    {
      "cell_type": "code",
      "source": "# Python3 program to check for\n# balanced brackets.\n \n# function to check if\n# brackets are balanced\n \n \ndef areBracketsBalanced(expr):\n    stack = []\n \n    # Traversing the Expression\n    for char in expr:\n        if char in [\"(\", \"{\", \"[\"]:\n \n            # Push the element in the stack\n            stack.append(char)\n        else:\n \n            # IF current character is not opening\n            # bracket, then it must be closing.\n            # So stack cannot be empty at this point.\n            if not stack:\n                return False\n            current_char = stack.pop()\n            if current_char == '(':\n                if char != \")\":\n                    return False\n            if current_char == '{':\n                if char != \"}\":\n                    return False\n            if current_char == '[':\n                if char != \"]\":\n                    return False\n \n    # Check Empty Stack\n    if stack:\n        return False\n    return True\n \n \n# Driver Code\nif __name__ == \"__main__\":\n    expr = \"{()}[]\"\n \n    # Function call\n    if areBracketsBalanced(expr):\n        print(\"Balanced\")\n    else:\n        print(\"Not Balanced\")",
      "metadata": {
        "trusted": true
      },
      "execution_count": 12,
      "outputs": [
        {
          "name": "stdout",
          "text": "Balanced\n",
          "output_type": "stream"
        }
      ],
      "id": "b4fd51e1-92e7-400d-97b0-3efbda4954f3"
    },
    {
      "cell_type": "code",
      "source": "# create class for stack\nclass Stack:\n  \n    # create empty list\n    def __init__(self):\n        self.Elements = []\n          \n    # push() for insert an element\n    def push(self, value):\n        self.Elements.append(value)\n        \n    # pop() for remove an element\n    def pop(self):\n        return self.Elements.pop()\n      \n    # empty() check the stack is empty of not\n    def empty(self):\n        return self.Elements == []\n      \n    # show() display stack\n    def show(self):\n        for value in reversed(self.Elements):\n            print(value)\n  \n# Insert_Bottom() insert value at bottom\ndef BottomInsert(s, value):\n    \n    # check the stack is empty or not\n    if s.empty(): \n          \n        # if stack is empty then call\n        # push() method.\n        s.push(value)\n          \n    # if stack is not empty then execute\n    # else block\n    else:\n        popped = s.pop()\n        BottomInsert(s, value)\n        s.push(popped)\n  \n# Reverse() reverse the stack\ndef Reverse(s):\n    if s.empty():\n        pass\n    else:\n        popped = s.pop()\n        Reverse(s)\n        BottomInsert(s, popped)\n  \n  \n# create object of stack class\nstk = Stack()\n  \nstk.push(1)\nstk.push(2)\nstk.push(3)\nstk.push(4)\nstk.push(5)\n  \nprint(\"Original Stack\")\nstk.show()\n  \nprint(\"\\nStack after Reversing\")\nReverse(stk)\nstk.show()",
      "metadata": {
        "trusted": true
      },
      "execution_count": 13,
      "outputs": [
        {
          "name": "stdout",
          "text": "Original Stack\n5\n4\n3\n2\n1\n\nStack after Reversing\n1\n2\n3\n4\n5\n",
          "output_type": "stream"
        }
      ],
      "id": "368a45a5-87aa-4f05-918b-18555f65b4f4"
    },
    {
      "cell_type": "code",
      "source": "# Class to make a Node \nclass Node:\n    # Constructor which assign argument to nade's value \n    def __init__(self, value):\n        self.value = value\n        self.next = None\n  \n    # This method returns the string representation of the object.\n    def __str__(self):\n        return \"Node({})\".format(self.value)\n      \n    # __repr__ is same as __str__\n    __repr__ = __str__\n  \n  \nclass Stack:\n    # Stack Constructor initialise top of stack and counter.\n    def __init__(self):\n        self.top = None\n        self.count = 0\n        self.minimum = None\n          \n    # This method returns the string representation of the object (stack).\n    def __str__(self):\n        temp = self.top\n        out = []\n        while temp:\n            out.append(str(temp.value))\n            temp = temp.next\n        out = '\\n'.join(out)\n        return ('Top {} \\n\\nStack :\\n{}'.format(self.top,out))\n          \n    # __repr__ is same as __str__\n    __repr__=__str__\n      \n    # This method is used to get minimum element of stack\n    def getMin(self):\n        if self.top is None:\n            return \"Stack is empty\"\n        else:\n            print(\"Minimum Element in the stack is: {}\" .format(self.minimum))\n  \n  \n  \n    # Method to check if Stack is Empty or not\n    def isEmpty(self):\n        # If top equals to None then stack is empty \n        if self.top == None:\n            return True\n        else:\n        # If top not equal to None then stack is empty \n            return False\n  \n    # This method returns length of stack     \n    def __len__(self):\n        self.count = 0\n        tempNode = self.top\n        while tempNode:\n            tempNode = tempNode.next\n            self.count+=1\n        return self.count\n  \n    # This method returns top of stack     \n    def peek(self):\n        if self.top is None:\n            print (\"Stack is empty\")\n        else: \n            if self.top.value < self.minimum:\n                print(\"Top Most Element is: {}\" .format(self.minimum))\n            else:\n                print(\"Top Most Element is: {}\" .format(self.top.value))\n  \n    # This method is used to add node to stack\n    def push(self,value):\n        if self.top is None:\n            self.top = Node(value)\n            self.minimum = value\n          \n        elif value < self.minimum:\n            temp = (2 * value) - self.minimum\n            new_node = Node(temp)\n            new_node.next = self.top\n            self.top = new_node\n            self.minimum = value\n        else:\n            new_node = Node(value)\n            new_node.next = self.top\n            self.top = new_node\n        print(\"Number Inserted: {}\" .format(value))\n  \n    # This method is used to pop top of stack\n    def pop(self):\n        if self.top is None:\n            print( \"Stack is empty\")\n        else:\n            removedNode = self.top.value\n            self.top = self.top.next\n            if removedNode < self.minimum:\n                print (\"Top Most Element Removed :{} \" .format(self.minimum))\n                self.minimum = ( ( 2 * self.minimum ) - removedNode )\n            else:\n                print (\"Top Most Element Removed : {}\" .format(removedNode))\n  \n                  \n              \n      \n# Driver program to test above class \nstack = Stack() \n  \nstack.push(3)\nstack.push(5) \nstack.getMin()\nstack.push(2)\nstack.push(1)\nstack.getMin()     \nstack.pop()\nstack.getMin()\nstack.pop() \nstack.peek()\n  ",
      "metadata": {
        "trusted": true
      },
      "execution_count": 14,
      "outputs": [
        {
          "name": "stdout",
          "text": "Number Inserted: 3\nNumber Inserted: 5\nMinimum Element in the stack is: 3\nNumber Inserted: 2\nNumber Inserted: 1\nMinimum Element in the stack is: 1\nTop Most Element Removed :1 \nMinimum Element in the stack is: 2\nTop Most Element Removed :2 \nTop Most Element is: 5\n",
          "output_type": "stream"
        }
      ],
      "id": "4adf6091-1263-4bfd-b4ec-5e318bdd2d37"
    },
    {
      "cell_type": "code",
      "source": "",
      "metadata": {},
      "execution_count": null,
      "outputs": [],
      "id": "5c638ed9-5d6e-4bf0-8bbf-a4767d7c34a7"
    }
  ]
}